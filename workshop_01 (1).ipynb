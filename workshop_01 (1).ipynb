{
 "cells": [
  {
   "cell_type": "code",
   "execution_count": 1,
   "id": "cb601bf7-72e3-48b0-961d-0a3c496c0379",
   "metadata": {},
   "outputs": [],
   "source": [
    "import pandas as pd\n",
    "import numpy as np\n",
    "import torch\n",
    "import torch.nn as nn"
   ]
  },
  {
   "cell_type": "code",
   "execution_count": 2,
   "id": "c16ce1a9-4630-441d-982a-585b8121e6f7",
   "metadata": {},
   "outputs": [],
   "source": [
    "data=pd.read_csv(\"income.csv\")"
   ]
  },
  {
   "cell_type": "code",
   "execution_count": 3,
   "id": "6f47135a-f883-4a4e-b295-c5af1e9e78cf",
   "metadata": {},
   "outputs": [
    {
     "data": {
      "text/html": [
       "<div>\n",
       "<style scoped>\n",
       "    .dataframe tbody tr th:only-of-type {\n",
       "        vertical-align: middle;\n",
       "    }\n",
       "\n",
       "    .dataframe tbody tr th {\n",
       "        vertical-align: top;\n",
       "    }\n",
       "\n",
       "    .dataframe thead th {\n",
       "        text-align: right;\n",
       "    }\n",
       "</style>\n",
       "<table border=\"1\" class=\"dataframe\">\n",
       "  <thead>\n",
       "    <tr style=\"text-align: right;\">\n",
       "      <th></th>\n",
       "      <th>age</th>\n",
       "      <th>sex</th>\n",
       "      <th>education</th>\n",
       "      <th>education-num</th>\n",
       "      <th>marital-status</th>\n",
       "      <th>workclass</th>\n",
       "      <th>occupation</th>\n",
       "      <th>hours-per-week</th>\n",
       "      <th>income</th>\n",
       "      <th>label</th>\n",
       "    </tr>\n",
       "  </thead>\n",
       "  <tbody>\n",
       "    <tr>\n",
       "      <th>0</th>\n",
       "      <td>27</td>\n",
       "      <td>Male</td>\n",
       "      <td>HS-grad</td>\n",
       "      <td>9</td>\n",
       "      <td>Never-married</td>\n",
       "      <td>Private</td>\n",
       "      <td>Craft-repair</td>\n",
       "      <td>40</td>\n",
       "      <td>&lt;=50K</td>\n",
       "      <td>0</td>\n",
       "    </tr>\n",
       "    <tr>\n",
       "      <th>1</th>\n",
       "      <td>47</td>\n",
       "      <td>Male</td>\n",
       "      <td>Masters</td>\n",
       "      <td>14</td>\n",
       "      <td>Married</td>\n",
       "      <td>Local-gov</td>\n",
       "      <td>Exec-managerial</td>\n",
       "      <td>50</td>\n",
       "      <td>&gt;50K</td>\n",
       "      <td>1</td>\n",
       "    </tr>\n",
       "    <tr>\n",
       "      <th>2</th>\n",
       "      <td>59</td>\n",
       "      <td>Male</td>\n",
       "      <td>HS-grad</td>\n",
       "      <td>9</td>\n",
       "      <td>Divorced</td>\n",
       "      <td>Self-emp</td>\n",
       "      <td>Prof-specialty</td>\n",
       "      <td>20</td>\n",
       "      <td>&lt;=50K</td>\n",
       "      <td>0</td>\n",
       "    </tr>\n",
       "    <tr>\n",
       "      <th>3</th>\n",
       "      <td>38</td>\n",
       "      <td>Female</td>\n",
       "      <td>Prof-school</td>\n",
       "      <td>15</td>\n",
       "      <td>Never-married</td>\n",
       "      <td>Federal-gov</td>\n",
       "      <td>Prof-specialty</td>\n",
       "      <td>57</td>\n",
       "      <td>&gt;50K</td>\n",
       "      <td>1</td>\n",
       "    </tr>\n",
       "    <tr>\n",
       "      <th>4</th>\n",
       "      <td>64</td>\n",
       "      <td>Female</td>\n",
       "      <td>11th</td>\n",
       "      <td>7</td>\n",
       "      <td>Widowed</td>\n",
       "      <td>Private</td>\n",
       "      <td>Farming-fishing</td>\n",
       "      <td>40</td>\n",
       "      <td>&lt;=50K</td>\n",
       "      <td>0</td>\n",
       "    </tr>\n",
       "  </tbody>\n",
       "</table>\n",
       "</div>"
      ],
      "text/plain": [
       "   age     sex    education  education-num marital-status    workclass  \\\n",
       "0   27    Male      HS-grad              9  Never-married      Private   \n",
       "1   47    Male      Masters             14        Married    Local-gov   \n",
       "2   59    Male      HS-grad              9       Divorced     Self-emp   \n",
       "3   38  Female  Prof-school             15  Never-married  Federal-gov   \n",
       "4   64  Female         11th              7        Widowed      Private   \n",
       "\n",
       "        occupation  hours-per-week income  label  \n",
       "0     Craft-repair              40  <=50K      0  \n",
       "1  Exec-managerial              50   >50K      1  \n",
       "2   Prof-specialty              20  <=50K      0  \n",
       "3   Prof-specialty              57   >50K      1  \n",
       "4  Farming-fishing              40  <=50K      0  "
      ]
     },
     "execution_count": 3,
     "metadata": {},
     "output_type": "execute_result"
    }
   ],
   "source": [
    "data.head()"
   ]
  },
  {
   "cell_type": "code",
   "execution_count": 4,
   "id": "8c20662e-5aed-4d21-960e-1b5c5ed7e079",
   "metadata": {},
   "outputs": [
    {
     "data": {
      "text/plain": [
       "(30000, 10)"
      ]
     },
     "execution_count": 4,
     "metadata": {},
     "output_type": "execute_result"
    }
   ],
   "source": [
    "data.shape"
   ]
  },
  {
   "cell_type": "code",
   "execution_count": 5,
   "id": "b107ab3c-0170-4249-a347-38b700e6cb4c",
   "metadata": {},
   "outputs": [
    {
     "data": {
      "text/plain": [
       "<bound method DataFrame.info of        age     sex     education  education-num marital-status    workclass  \\\n",
       "0       27    Male       HS-grad              9  Never-married      Private   \n",
       "1       47    Male       Masters             14        Married    Local-gov   \n",
       "2       59    Male       HS-grad              9       Divorced     Self-emp   \n",
       "3       38  Female   Prof-school             15  Never-married  Federal-gov   \n",
       "4       64  Female          11th              7        Widowed      Private   \n",
       "...    ...     ...           ...            ...            ...          ...   \n",
       "29995   45    Male       Masters             14        Married    State-gov   \n",
       "29996   33    Male       HS-grad              9        Married      Private   \n",
       "29997   47    Male   Prof-school             15        Married      Private   \n",
       "29998   32  Female  Some-college             10  Never-married      Private   \n",
       "29999   33    Male    Assoc-acdm             12        Married     Self-emp   \n",
       "\n",
       "              occupation  hours-per-week income  label  \n",
       "0           Craft-repair              40  <=50K      0  \n",
       "1        Exec-managerial              50   >50K      1  \n",
       "2         Prof-specialty              20  <=50K      0  \n",
       "3         Prof-specialty              57   >50K      1  \n",
       "4        Farming-fishing              40  <=50K      0  \n",
       "...                  ...             ...    ...    ...  \n",
       "29995     Prof-specialty              60   >50K      1  \n",
       "29996  Machine-op-inspct              40   >50K      1  \n",
       "29997     Prof-specialty              55   >50K      1  \n",
       "29998       Adm-clerical              40  <=50K      0  \n",
       "29999    Exec-managerial              60   >50K      1  \n",
       "\n",
       "[30000 rows x 10 columns]>"
      ]
     },
     "execution_count": 5,
     "metadata": {},
     "output_type": "execute_result"
    }
   ],
   "source": [
    "data.info"
   ]
  },
  {
   "cell_type": "code",
   "execution_count": 6,
   "id": "be448674-61bf-4ac2-86ff-64bb5a0f3b6c",
   "metadata": {},
   "outputs": [],
   "source": [
    "cat=['sex','education','marital-status','workclass','occupation']"
   ]
  },
  {
   "cell_type": "code",
   "execution_count": null,
   "id": "c5315def-d3b4-419d-a424-3d81214f4a2b",
   "metadata": {},
   "outputs": [],
   "source": []
  },
  {
   "cell_type": "code",
   "execution_count": 7,
   "id": "a46e49f2-e84c-4e8a-89f8-848a6ed5bc87",
   "metadata": {},
   "outputs": [],
   "source": [
    "target=['label']"
   ]
  },
  {
   "cell_type": "code",
   "execution_count": null,
   "id": "b7fb4e03-9ff5-42b1-b851-2bf56076d39c",
   "metadata": {},
   "outputs": [],
   "source": []
  },
  {
   "cell_type": "code",
   "execution_count": 8,
   "id": "06ec7913-2893-49a8-bd22-f9d42d49f083",
   "metadata": {},
   "outputs": [],
   "source": [
    "con=['age','hours-per-week']"
   ]
  },
  {
   "cell_type": "code",
   "execution_count": 9,
   "id": "dc26b29c-1c29-4d59-bfad-a7cab67f570b",
   "metadata": {},
   "outputs": [
    {
     "name": "stdout",
     "output_type": "stream",
     "text": [
      "cat_cols  has 5 columns\n",
      "cont_cols has 2 columns\n",
      "y_col     has 1 column\n"
     ]
    }
   ],
   "source": [
    "print(f'cat_cols  has {len(cat)} columns')\n",
    "print(f'cont_cols has {len(con)} columns')\n",
    "print(f'y_col     has {len(target)} column')"
   ]
  },
  {
   "cell_type": "code",
   "execution_count": 10,
   "id": "98e510b6-3d2b-4828-928f-d2b865817896",
   "metadata": {},
   "outputs": [],
   "source": [
    "for col in cat:\n",
    "    data[col] = data[col].astype('category')"
   ]
  },
  {
   "cell_type": "code",
   "execution_count": null,
   "id": "14dffb37-170b-4488-ab77-a1dac36a8a49",
   "metadata": {},
   "outputs": [],
   "source": []
  },
  {
   "cell_type": "code",
   "execution_count": null,
   "id": "6bf0e665-813c-4234-9d8d-c2a0cb44be35",
   "metadata": {},
   "outputs": [],
   "source": []
  },
  {
   "cell_type": "code",
   "execution_count": 11,
   "id": "eb568bc4-c8e7-4742-bedb-3839d0062e19",
   "metadata": {},
   "outputs": [],
   "source": [
    "cat_szs = [len(data[col].cat.categories) for col in cat] \n",
    "emb_szs = [(size, min(50, (size+1)//2)) for size in cat_szs] "
   ]
  },
  {
   "cell_type": "code",
   "execution_count": 12,
   "id": "20a59352-540c-4697-9a15-64c5dd83a9c9",
   "metadata": {},
   "outputs": [
    {
     "data": {
      "text/plain": [
       "[(2, 1), (14, 7), (6, 3), (5, 3), (12, 6)]"
      ]
     },
     "execution_count": 12,
     "metadata": {},
     "output_type": "execute_result"
    }
   ],
   "source": [
    "emb_szs"
   ]
  },
  {
   "cell_type": "code",
   "execution_count": 13,
   "id": "c15b3e47-bf03-4523-ade6-f353c69086a1",
   "metadata": {},
   "outputs": [
    {
     "data": {
      "text/plain": [
       "array([[ 1, 10,  3,  2,  1],\n",
       "       [ 1, 11,  1,  1,  2],\n",
       "       [ 1, 10,  0,  3,  7],\n",
       "       [ 0, 12,  3,  0,  7],\n",
       "       [ 0,  1,  5,  2,  3]], dtype=int8)"
      ]
     },
     "execution_count": 13,
     "metadata": {},
     "output_type": "execute_result"
    }
   ],
   "source": [
    "cats = np.stack([data[col].cat.codes.values for col in cat], 1)\n",
    "cats[:5]"
   ]
  },
  {
   "cell_type": "code",
   "execution_count": 14,
   "id": "7e447988-e70c-41b1-8e76-26e3b364f517",
   "metadata": {},
   "outputs": [],
   "source": [
    "cats_tensor = torch.tensor(cats, dtype=torch.int64)"
   ]
  },
  {
   "cell_type": "code",
   "execution_count": 15,
   "id": "04df2efa-8ddf-410b-889d-93900c0e93c2",
   "metadata": {},
   "outputs": [
    {
     "data": {
      "text/plain": [
       "array([[27, 40],\n",
       "       [47, 50],\n",
       "       [59, 20],\n",
       "       [38, 57],\n",
       "       [64, 40]])"
      ]
     },
     "execution_count": 15,
     "metadata": {},
     "output_type": "execute_result"
    }
   ],
   "source": [
    "conts = np.stack([data[col].values for col in con], 1)\n",
    "conts[:5]"
   ]
  },
  {
   "cell_type": "code",
   "execution_count": 16,
   "id": "2eba38ec-0657-46c9-9ee8-273a6ee4de72",
   "metadata": {},
   "outputs": [],
   "source": [
    "conts_tensor = torch.tensor(conts, dtype=torch.float32)\n"
   ]
  },
  {
   "cell_type": "code",
   "execution_count": 17,
   "id": "bbf7c13c-8331-4541-8883-a79011f1d893",
   "metadata": {},
   "outputs": [],
   "source": [
    "y = torch.tensor(data['label'].values, dtype=torch.long)"
   ]
  },
  {
   "cell_type": "code",
   "execution_count": 18,
   "id": "63140769-37a1-45d9-a5df-970b73ac3da5",
   "metadata": {},
   "outputs": [],
   "source": [
    "b = 30000 \n",
    "t = 5000   \n",
    "\n",
    "\n",
    "cats_train, cats_test = cats_tensor[:b], cats_tensor[b:]\n",
    "conts_train, conts_test = conts_tensor[:b], conts_tensor[b:]\n",
    "y_train, y_test = y[:b], y[b:]"
   ]
  },
  {
   "cell_type": "code",
   "execution_count": 19,
   "id": "2788d3a6-e80e-4349-a1df-acfe110326e5",
   "metadata": {},
   "outputs": [],
   "source": [
    "class TabularModel(nn.Module):\n",
    "\n",
    "    def __init__(self, emb_szs, n_cont, out_sz, layers, p=0.5):\n",
    "        super().__init__()\n",
    "        \n",
    "        # Embedding layer for categorical data\n",
    "        self.embeds = nn.ModuleList([nn.Embedding(ni, nf) for ni, nf in emb_szs])\n",
    "        self.emb_drop = nn.Dropout(p)\n",
    "        self.bn_cont = nn.BatchNorm1d(n_cont)\n",
    "        \n",
    "        # Define the feedforward layers\n",
    "        layerlist = []\n",
    "        n_emb = sum((nf for ni, nf in emb_szs))\n",
    "        n_in = n_emb + n_cont\n",
    "        for i in layers:\n",
    "            layerlist.append(nn.Linear(n_in, i)) \n",
    "            layerlist.append(nn.ReLU(inplace=True))\n",
    "            layerlist.append(nn.BatchNorm1d(i))\n",
    "            layerlist.append(nn.Dropout(p))\n",
    "            n_in = i\n",
    "        layerlist.append(nn.Linear(layers[-1], out_sz))\n",
    "        self.layers = nn.Sequential(*layerlist)\n",
    "    \n",
    "    def forward(self, x_cat, x_cont):\n",
    "        embeddings = [e(x_cat[:, i]) for i, e in enumerate(self.embeds)]\n",
    "        x = torch.cat(embeddings, 1)\n",
    "        x = self.emb_drop(x)\n",
    "        \n",
    "        # Batch normalization for continuous variables\n",
    "        x_cont = self.bn_cont(x_cont)\n",
    "        x = torch.cat([x, x_cont], 1)\n",
    "        \n",
    "        # Pass through feedforward layers\n",
    "        x = self.layers(x)\n",
    "        return x\n"
   ]
  },
  {
   "cell_type": "code",
   "execution_count": 20,
   "id": "1919dfaf-4f43-4a02-8193-18baee38e341",
   "metadata": {},
   "outputs": [
    {
     "name": "stdout",
     "output_type": "stream",
     "text": [
      "TabularModel(\n",
      "  (embeds): ModuleList(\n",
      "    (0): Embedding(2, 1)\n",
      "    (1): Embedding(14, 7)\n",
      "    (2): Embedding(6, 3)\n",
      "    (3): Embedding(5, 3)\n",
      "    (4): Embedding(12, 6)\n",
      "  )\n",
      "  (emb_drop): Dropout(p=0.4, inplace=False)\n",
      "  (bn_cont): BatchNorm1d(2, eps=1e-05, momentum=0.1, affine=True, track_running_stats=True)\n",
      "  (layers): Sequential(\n",
      "    (0): Linear(in_features=22, out_features=50, bias=True)\n",
      "    (1): ReLU(inplace=True)\n",
      "    (2): BatchNorm1d(50, eps=1e-05, momentum=0.1, affine=True, track_running_stats=True)\n",
      "    (3): Dropout(p=0.4, inplace=False)\n",
      "    (4): Linear(in_features=50, out_features=2, bias=True)\n",
      "  )\n",
      ")\n"
     ]
    }
   ],
   "source": [
    "model = TabularModel(emb_szs, n_cont=2, out_sz=2, layers=[50], p=0.4)\n",
    "print(model)\n"
   ]
  },
  {
   "cell_type": "code",
   "execution_count": 21,
   "id": "851408bc-4367-44c9-9efe-a4a2b46f52e8",
   "metadata": {},
   "outputs": [],
   "source": [
    "criterion = nn.CrossEntropyLoss()\n",
    "optimizer = torch.optim.Adam(model.parameters(), lr=0.001)"
   ]
  },
  {
   "cell_type": "code",
   "execution_count": 24,
   "id": "8c96921e-3679-4ec0-a55e-4cdc944b580c",
   "metadata": {},
   "outputs": [
    {
     "name": "stdout",
     "output_type": "stream",
     "text": [
      "epoch:   1  loss: 0.32130083\n",
      "epoch:  26  loss: 0.31841007\n",
      "epoch:  51  loss: 0.31752831\n",
      "epoch:  76  loss: 0.30946460\n",
      "epoch: 101  loss: 0.30460221\n",
      "epoch: 126  loss: 0.30681893\n",
      "epoch: 151  loss: 0.30193111\n",
      "epoch: 176  loss: 0.29977223\n",
      "epoch: 201  loss: 0.29703766\n",
      "epoch: 226  loss: 0.29315579\n",
      "epoch: 251  loss: 0.29510307\n",
      "epoch: 276  loss: 0.29412898\n",
      "epoch: 300  loss: 0.29014450\n",
      "\n",
      "Duration: 20 seconds\n"
     ]
    }
   ],
   "source": [
    "import time\n",
    "start_time = time.time()\n",
    "\n",
    "epochs = 300\n",
    "losses = []\n",
    "\n",
    "for i in range(epochs):\n",
    "    i+=1\n",
    "    y_pred = model(cats_train, conts_train)\n",
    "    loss = criterion(y_pred, y_train)\n",
    "    losses.append(loss)\n",
    "    \n",
    "    # a neat trick to save screen space:\n",
    "    if i%25 == 1:\n",
    "        print(f'epoch: {i:3}  loss: {loss.item():10.8f}')\n",
    "\n",
    "    optimizer.zero_grad()\n",
    "    loss.backward()\n",
    "    optimizer.step()\n",
    "\n",
    "print(f'epoch: {i:3}  loss: {loss.item():10.8f}') # print the last line\n",
    "print(f'\\nDuration: {time.time() - start_time:.0f} seconds')"
   ]
  },
  {
   "cell_type": "code",
   "execution_count": 28,
   "id": "75aa2102-02ba-4193-92bf-9f06197c984a",
   "metadata": {},
   "outputs": [
    {
     "data": {
      "image/png": "[encoded data removed]",
      "text/plain": [
       "<Figure size 640x480 with 1 Axes>"
      ]
     },
     "metadata": {},
     "output_type": "display_data"
    }
   ],
   "source": [
    "import matplotlib.pyplot as plt\n",
    "\n",
    "# Convert the list of loss tensors to floats\n",
    "losses_np = [loss.detach().cpu().numpy() for loss in losses]\n",
    "\n",
    "plt.plot(losses_np)\n",
    "plt.xlabel('Epoch')\n",
    "plt.ylabel('Loss')\n",
    "plt.show()\n"
   ]
  },
  {
   "cell_type": "code",
   "execution_count": 32,
   "id": "8af4ff7c-b9f7-48a0-8faa-2b369237daf6",
   "metadata": {},
   "outputs": [],
   "source": [
    "cats_test = cats_tensor[25000:]\n",
    "conts_test = conts_tensor[25000:]\n",
    "y_test = y[25000:]"
   ]
  },
  {
   "cell_type": "code",
   "execution_count": 33,
   "id": "d2b4dced-46a6-4c24-8d40-deec161a8a56",
   "metadata": {},
   "outputs": [
    {
     "name": "stdout",
     "output_type": "stream",
     "text": [
      "Test CE Loss: 0.26077694\n"
     ]
    }
   ],
   "source": [
    "model.eval()\n",
    "with torch.no_grad():\n",
    "    y_pred_test = model(cats_test, conts_test)\n",
    "    loss = criterion(y_pred_test, y_test)\n",
    "\n",
    "print(f'Test CE Loss: {loss.item():.8f}')\n"
   ]
  },
  {
   "cell_type": "code",
   "execution_count": 34,
   "id": "c890b6ca-edc2-43f5-b5ea-e042fd79043d",
   "metadata": {},
   "outputs": [
    {
     "name": "stdout",
     "output_type": "stream",
     "text": [
      "Accuracy: 88.20%\n"
     ]
    }
   ],
   "source": [
    "y_pred_labels = torch.argmax(y_pred_test, dim=1)\n",
    "correct = (y_pred_labels == y_test).sum().item()\n",
    "accuracy = correct / y_test.size(0) * 100\n",
    "print(f'Accuracy: {accuracy:.2f}%')"
   ]
  },
  {
   "cell_type": "code",
   "execution_count": null,
   "id": "0bf56383-ad02-45a6-96e5-f47b553c77f9",
   "metadata": {},
   "outputs": [],
   "source": []
  }
 ],
 "metadata": {
  "kernelspec": {
   "display_name": "Python 3 (ipykernel)",
   "language": "python",
   "name": "python3"
  },
  "language_info": {
   "codemirror_mode": {
    "name": "ipython",
    "version": 3
   },
   "file_extension": ".py",
   "mimetype": "text/x-python",
   "name": "python",
   "nbconvert_exporter": "python",
   "pygments_lexer": "ipython3",
   "version": "3.10.18"
  }
 },
 "nbformat": 4,
 "nbformat_minor": 5
}
